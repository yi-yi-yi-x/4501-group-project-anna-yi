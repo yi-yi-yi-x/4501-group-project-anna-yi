{
 "cells": [
  {
   "cell_type": "markdown",
   "metadata": {
    "collapsed": false,
    "pycharm": {
     "name": "#%% md\n"
    }
   },
   "source": [
    "Load the data in chunks and select the part of data with zip code 10025"
   ]
  },
  {
   "cell_type": "code",
   "execution_count": 1,
   "metadata": {
    "collapsed": true,
    "pycharm": {
     "is_executing": false,
     "name": "#%%\n"
    }
   },
   "outputs": [],
   "source": [
    "import pandas as pd\n",
    "\n",
    "df_call=pd.DataFrame()\n",
    "for df in pd.read_csv('311_Service_Requests_2020.csv',chunksize=10000):\n",
    "    df=df.loc[df['Incident Zip']==10025]\n",
    "    df_call=df_call.append(df)\n",
    "    "
   ]
  },
  {
   "cell_type": "markdown",
   "metadata": {
    "collapsed": false
   },
   "source": [
    "What's the top 10 causes of calls to 311 are in your chosen ZIP code? Calculate how many total incidents of each of these 10 types there have been in the year 2020. Your answer should be a pandas.Series which you must call top10 (as a Python variable), which should be in descending order by number of incidents, and which contains as its labels the incident type (a string) and as associated values the total number of incidents of this type in 2020.\n"
   ]
  },
  {
   "cell_type": "code",
   "execution_count": 2,
   "metadata": {
    "collapsed": false,
    "pycharm": {
     "is_executing": false,
     "name": "#%%\n"
    }
   },
   "outputs": [],
   "source": [
    "top10=df_call.groupby('Complaint Type').size().sort_values(ascending = False).head(10)\n"
   ]
  }
 ],
 "metadata": {
  "kernelspec": {
   "display_name": "Python 3",
   "language": "python",
   "name": "python3"
  },
  "language_info": {
   "codemirror_mode": {
    "name": "ipython",
    "version": 3
   },
   "file_extension": ".py",
   "mimetype": "text/x-python",
   "name": "python",
   "nbconvert_exporter": "python",
   "pygments_lexer": "ipython3",
   "version": "3.7.4"
  },
  "pycharm": {
   "stem_cell": {
    "cell_type": "raw",
    "metadata": {
     "collapsed": false
    },
    "source": []
   }
  }
 },
 "nbformat": 4,
 "nbformat_minor": 0
}
