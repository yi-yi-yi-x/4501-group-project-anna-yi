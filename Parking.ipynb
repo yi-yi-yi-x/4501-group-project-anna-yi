{
 "cells": [
  {
   "cell_type": "code",
   "execution_count": 1,
   "metadata": {
    "collapsed": true,
    "pycharm": {
     "is_executing": false
    }
   },
   "outputs": [],
   "source": [
    "import pandas as pd\n",
    "\n",
    "total_parking_incidents = 0\n",
    "total_incidents = 0\n",
    "\n",
    "for df in pd.read_csv('311_Service_Requests_2020.csv', chunksize=10000):\n",
    "    total_incidents = total_incidents+len(df)\n",
    "    df = df.loc[df['Complaint Type']=='Illegal Parking']\n",
    "    total_parking_incidents = total_parking_incidents+len(df)\n"
   ]
  },
  {
   "cell_type": "code",
   "execution_count": 3,
   "metadata": {
    "collapsed": false,
    "pycharm": {
     "is_executing": false,
     "name": "#%%\n"
    }
   },
   "outputs": [],
   "source": [
    "total_parking_incidents_zip = 0\n",
    "total_incidents_zip = 0\n",
    "\n",
    "for df in pd.read_csv('311_Service_Requests_2020.csv', chunksize=10000):\n",
    "    df = df.loc[df['Incident Zip']==10025]\n",
    "    total_incidents_zip = total_incidents_zip+len(df)\n",
    "    df = df.loc[(df['Complaint Type']=='Illegal Parking')&(df['Incident Zip']==10025)]\n",
    "    total_parking_incidents_zip = total_parking_incidents_zip+len(df)\n"
   ]
  },
  {
   "cell_type": "code",
   "execution_count": 4,
   "metadata": {
    "collapsed": false,
    "pycharm": {
     "is_executing": false,
     "name": "#%%\n"
    }
   },
   "outputs": [
    {
     "data": {
      "text/plain": [
       "(0.07487334365033108, 0.03775383735341787, False)"
      ]
     },
     "execution_count": 4,
     "metadata": {},
     "output_type": "execute_result"
    }
   ],
   "source": [
    "fraction = total_parking_incidents/total_incidents\n",
    "fraction_zip = total_parking_incidents_zip/total_incidents_zip\n",
    "higher_parking_proportion = fraction_zip > fraction\n",
    "fraction, fraction_zip, higher_parking_proportion"
   ]
  },
  {
   "cell_type": "code",
   "execution_count": 5,
   "metadata": {},
   "outputs": [
    {
     "name": "stderr",
     "output_type": "stream",
     "text": [
      "/opt/anaconda3/lib/python3.7/site-packages/IPython/core/interactiveshell.py:3326: DtypeWarning: Columns (20,31,32) have mixed types.Specify dtype option on import or set low_memory=False.\n",
      "  exec(code_obj, self.user_global_ns, self.user_ns)\n"
     ]
    },
    {
     "data": {
      "text/plain": [
       "(0.07487334365033108, 0.03775383735341787, False)"
      ]
     },
     "execution_count": 5,
     "metadata": {},
     "output_type": "execute_result"
    }
   ],
   "source": [
    "import pandas as pd\n",
    "df = pd.read_csv('311_Service_Requests_2020.csv')\n",
    "\n",
    "total_incidents = len(df)\n",
    "total_parking_incidents = len(df[df[\"Complaint Type\"]==\"Illegal Parking\"])\n",
    "fraction = total_parking_incidents/total_incidents\n",
    "\n",
    "total_incidents_zip = len(df[df[\"Incident Zip\"]==10025])\n",
    "total_parking_incidents_zip = len(df[(df[\"Incident Zip\"]==10025) & (df[\"Complaint Type\"]==\"Illegal Parking\")])\n",
    "fraction_zip = total_parking_incidents_zip/total_incidents_zip\n",
    "\n",
    "higher_parking_proportion = fraction_zip > fraction\n",
    "fraction, fraction_zip, higher_parking_proportion"
   ]
  },
  {
   "cell_type": "code",
   "execution_count": null,
   "metadata": {},
   "outputs": [],
   "source": []
  }
 ],
 "metadata": {
  "kernelspec": {
   "display_name": "Python 3",
   "language": "python",
   "name": "python3"
  },
  "language_info": {
   "codemirror_mode": {
    "name": "ipython",
    "version": 3
   },
   "file_extension": ".py",
   "mimetype": "text/x-python",
   "name": "python",
   "nbconvert_exporter": "python",
   "pygments_lexer": "ipython3",
   "version": "3.7.4"
  },
  "pycharm": {
   "stem_cell": {
    "cell_type": "raw",
    "metadata": {
     "collapsed": false
    },
    "source": []
   }
  }
 },
 "nbformat": 4,
 "nbformat_minor": 0
}
