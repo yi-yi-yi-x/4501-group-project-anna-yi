{
 "cells": [
  {
   "cell_type": "markdown",
   "source": [
    "loading the data in chunks and compute the number of parking incidents and the number of incidents for the whole dataset\n"
   ],
   "metadata": {
    "collapsed": false,
    "pycharm": {
     "name": "#%% md\n"
    }
   }
  },
  {
   "cell_type": "code",
   "execution_count": 5,
   "metadata": {
    "collapsed": true,
    "pycharm": {
     "is_executing": false
    }
   },
   "outputs": [],
   "source": [
    "import pandas as pd\n",
    "\n",
    "total_parking_incidents=0\n",
    "total_incidents=0\n",
    "\n",
    "for df in pd.read_csv('311_Service_Requests_2020.csv',chunksize=10000):\n",
    "    total_incidents=total_incidents+len(df)\n",
    "    df=df.loc[df['Complaint Type']=='Illegal Parking']\n",
    "    total_parking_incidents=total_parking_incidents+len(df)\n"
   ]
  },
  {
   "cell_type": "markdown",
   "source": [
    "loading the data in chunks and compute the number of parking incidents and the number of total incidents in area with zip code 10025"
   ],
   "metadata": {
    "collapsed": false,
    "pycharm": {
     "name": "#%% md\n"
    }
   }
  },
  {
   "cell_type": "code",
   "execution_count": 6,
   "outputs": [],
   "source": [
    "total_parking_incidents_zip=0\n",
    "total_incidents_zip=0\n",
    "\n",
    "for df in pd.read_csv('311_Service_Requests_2020.csv',chunksize=10000):\n",
    "    df=df.loc[df['Incident Zip']==10025]\n",
    "    total_incidents_zip=total_incidents_zip+len(df)\n",
    "    df=df.loc[(df['Complaint Type']=='Illegal Parking')&(df['Incident Zip']==10025)]\n",
    "    total_parking_incidents_zip=total_parking_incidents_zip+len(df)\n"
   ],
   "metadata": {
    "collapsed": false,
    "pycharm": {
     "name": "#%%\n",
     "is_executing": false
    }
   }
  },
  {
   "cell_type": "markdown",
   "source": [
    "\n",
    "Specifically, compute the total number of parking incidents in your ZIP, and the total number of all incidents -- is this fraction greater than or smaller than the total fraction of parking incidents across all ZIP codes? Your answer should be in the form of a single bool called `higher_parking_proportion` which is True if your ZIP contains a higher proportion of parking incidents than the global value, and False otherwise."
   ],
   "metadata": {
    "collapsed": false
   }
  },
  {
   "cell_type": "code",
   "execution_count": 7,
   "outputs": [],
   "source": [
    "higher_parking_proportion=total_parking_incidents_zip/total_incidents_zip>total_parking_incidents/total_incidents\n"
   ],
   "metadata": {
    "collapsed": false,
    "pycharm": {
     "name": "#%%\n",
     "is_executing": false
    }
   }
  }
 ],
 "metadata": {
  "kernelspec": {
   "display_name": "Python 3",
   "language": "python",
   "name": "python3"
  },
  "language_info": {
   "codemirror_mode": {
    "name": "ipython",
    "version": 2
   },
   "file_extension": ".py",
   "mimetype": "text/x-python",
   "name": "python",
   "nbconvert_exporter": "python",
   "pygments_lexer": "ipython2",
   "version": "2.7.6"
  },
  "pycharm": {
   "stem_cell": {
    "cell_type": "raw",
    "source": [],
    "metadata": {
     "collapsed": false
    }
   }
  }
 },
 "nbformat": 4,
 "nbformat_minor": 0
}