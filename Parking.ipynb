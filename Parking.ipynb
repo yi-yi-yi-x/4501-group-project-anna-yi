{
 "cells": [
  {
   "cell_type": "code",
   "execution_count": 1,
   "metadata": {
    "collapsed": true,
    "pycharm": {
     "is_executing": false
    }
   },
   "outputs": [],
   "source": [
    "import pandas as pd\n",
    "\n",
    "# compute the proportion of parking incidents across all ZIP codes\n",
    "total_parking_incidents = 0\n",
    "total_incidents = 0\n",
    "\n",
    "for df in pd.read_csv('311_Service_Requests_2020.csv', chunksize=10000):\n",
    "    total_incidents = total_incidents+len(df)\n",
    "    df = df.loc[df['Complaint Type']=='Illegal Parking']\n",
    "    total_parking_incidents = total_parking_incidents+len(df)\n",
    "\n",
    "fraction = total_parking_incidents/total_incidents"
   ]
  },
  {
   "cell_type": "code",
   "execution_count": 2,
   "metadata": {
    "collapsed": false,
    "pycharm": {
     "is_executing": false,
     "name": "#%%\n"
    }
   },
   "outputs": [],
   "source": [
    "# compute the proportion of parking incidents in ZIP code 10025\n",
    "total_parking_incidents_zip = 0\n",
    "total_incidents_zip = 0\n",
    "\n",
    "for df in pd.read_csv('311_Service_Requests_2020.csv', chunksize=10000):\n",
    "    df = df.loc[df['Incident Zip']==10025]\n",
    "    total_incidents_zip = total_incidents_zip+len(df)\n",
    "    df = df.loc[(df['Complaint Type']=='Illegal Parking')&(df['Incident Zip']==10025)]\n",
    "    total_parking_incidents_zip = total_parking_incidents_zip+len(df)\n",
    "\n",
    "fraction_zip = total_parking_incidents_zip/total_incidents_zip"
   ]
  },
  {
   "cell_type": "code",
   "execution_count": 3,
   "metadata": {
    "collapsed": false,
    "pycharm": {
     "is_executing": false,
     "name": "#%%\n"
    }
   },
   "outputs": [],
   "source": [
    "higher_parking_proportion = fraction_zip > fraction"
   ]
  }
 ],
 "metadata": {
  "kernelspec": {
   "display_name": "Python 3",
   "language": "python",
   "name": "python3"
  },
  "language_info": {
   "codemirror_mode": {
    "name": "ipython",
    "version": 3
   },
   "file_extension": ".py",
   "mimetype": "text/x-python",
   "name": "python",
   "nbconvert_exporter": "python",
   "pygments_lexer": "ipython3",
   "version": "3.7.4"
  },
  "pycharm": {
   "stem_cell": {
    "cell_type": "raw",
    "metadata": {
     "collapsed": false
    },
    "source": []
   }
  }
 },
 "nbformat": 4,
 "nbformat_minor": 0
}
